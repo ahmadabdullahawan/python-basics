{
 "cells": [
  {
   "cell_type": "markdown",
   "id": "d0728ca6",
   "metadata": {},
   "source": [
    "MAKING A TO DO LIST WITH THE HELP OF PYTHON LIST DATA STRUCTURES\n"
   ]
  },
  {
   "cell_type": "code",
   "execution_count": 1,
   "id": "437f43e1",
   "metadata": {},
   "outputs": [
    {
     "name": "stdout",
     "output_type": "stream",
     "text": [
      "please pay bills first of all\n",
      "remaining to do list\n",
      "study\n",
      "pay bills\n",
      "go for running\n",
      "go for a bath\n"
     ]
    }
   ],
   "source": [
    "to_do_list=[\"go for groceries\",'study','pay bills']\n",
    "#adding a task\n",
    "to_do_list.append(input(\"please enter the task you wanna add\"))\n",
    "to_do_list.append(input(\"please enter another task you wanna add\"))\n",
    "#removing a task after completion\n",
    "to_do_list.remove(input(\"please enter the task name you had done to remove it from to do list\"))\n",
    "#checking if task is in to do list\n",
    "for task in to_do_list:\n",
    "    if task==\"pay bills\":\n",
    "        print(\"please pay bills first of all\")\n",
    "print(\"remaining to do list\")\n",
    "for task in to_do_list:\n",
    "    print(task)\n"
   ]
  },
  {
   "cell_type": "markdown",
   "id": "e42020b8",
   "metadata": {},
   "source": [
    "MANAGING STUDENTS GRADES USING PYTHON LIST DATA STRUCTURE"
   ]
  },
  {
   "cell_type": "code",
   "execution_count": 2,
   "id": "a6e1a635",
   "metadata": {},
   "outputs": [
    {
     "name": "stdout",
     "output_type": "stream",
     "text": [
      "average 30.0\n",
      "lowest grade  10\n",
      "highest grade 50\n"
     ]
    }
   ],
   "source": [
    "list=[10,20,30,40,50]\n",
    "#averaging\n",
    "a=sum(list)/len(list)\n",
    "print(\"average\",a)\n",
    "#lowest and highest grade\n",
    "lowest=min(list)\n",
    "highest=max(list)\n",
    "print(\"lowest grade \",lowest)\n",
    "print('highest grade',highest)"
   ]
  },
  {
   "cell_type": "markdown",
   "id": "eaac52e8",
   "metadata": {},
   "source": [
    "Managing an inventory"
   ]
  },
  {
   "cell_type": "code",
   "execution_count": 2,
   "id": "2810026f",
   "metadata": {},
   "outputs": [
    {
     "name": "stdout",
     "output_type": "stream",
     "text": [
      "axel\n",
      "item is in stock\n",
      "printing the overall inventory\n",
      "axel\n",
      "spray\n",
      "bounet\n",
      "mirrors\n"
     ]
    }
   ],
   "source": [
    "inventory=['axel','tyres','spray','bounet']\n",
    "#adding an item to inventory\n",
    "inventory.append(str(input(\"please enter item name you wanna add to inventory\")))\n",
    "#removing an item from inventory\n",
    "inventory.remove(str(input(\"please enter item name you wanna remove from inventory\")))\n",
    "#checking if item is in inventory\n",
    "checking=str(input(\"please enter the item name that you wanna check is in inventory\"))\n",
    "print(checking)\n",
    "for item in inventory:\n",
    "    if item==str(checking):\n",
    "        print(\"item is in stock\")\n",
    "#printing the overall inventory\n",
    "print(\"printing the overall inventory\")\n",
    "for item in inventory:\n",
    "    print(item)"
   ]
  },
  {
   "cell_type": "code",
   "execution_count": null,
   "id": "7f250bb4",
   "metadata": {},
   "outputs": [],
   "source": []
  }
 ],
 "metadata": {
  "kernelspec": {
   "display_name": "abdullah",
   "language": "python",
   "name": "python3"
  },
  "language_info": {
   "codemirror_mode": {
    "name": "ipython",
    "version": 3
   },
   "file_extension": ".py",
   "mimetype": "text/x-python",
   "name": "python",
   "nbconvert_exporter": "python",
   "pygments_lexer": "ipython3",
   "version": "3.13.2"
  }
 },
 "nbformat": 4,
 "nbformat_minor": 5
}
