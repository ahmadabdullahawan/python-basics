{
 "cells": [
  {
   "cell_type": "markdown",
   "id": "aef9a418",
   "metadata": {},
   "source": [
    "Dictionaries \n"
   ]
  },
  {
   "cell_type": "code",
   "execution_count": 1,
   "id": "e196deb9",
   "metadata": {},
   "outputs": [],
   "source": [
    "empty_dict={}"
   ]
  },
  {
   "cell_type": "code",
   "execution_count": 2,
   "id": "62f17532",
   "metadata": {},
   "outputs": [
    {
     "data": {
      "text/plain": [
       "dict"
      ]
     },
     "execution_count": 2,
     "metadata": {},
     "output_type": "execute_result"
    }
   ],
   "source": [
    "type(empty_dict)"
   ]
  },
  {
   "cell_type": "code",
   "execution_count": 3,
   "id": "402849b9",
   "metadata": {},
   "outputs": [],
   "source": [
    "d1={'a': 1 ,'b':[1,2,3,4]}"
   ]
  },
  {
   "cell_type": "code",
   "execution_count": 4,
   "id": "12e777e6",
   "metadata": {},
   "outputs": [
    {
     "data": {
      "text/plain": [
       "{'a': 1, 'b': [1, 2, 3, 4]}"
      ]
     },
     "execution_count": 4,
     "metadata": {},
     "output_type": "execute_result"
    }
   ],
   "source": [
    "d1"
   ]
  },
  {
   "cell_type": "markdown",
   "id": "c12b33ba",
   "metadata": {},
   "source": [
    "Insertion in dict"
   ]
  },
  {
   "cell_type": "code",
   "execution_count": 5,
   "id": "fd8f39a6",
   "metadata": {},
   "outputs": [],
   "source": [
    "d1[7]=\"an integer\""
   ]
  },
  {
   "cell_type": "code",
   "execution_count": 6,
   "id": "ee6cbdd3",
   "metadata": {},
   "outputs": [
    {
     "data": {
      "text/plain": [
       "{'a': 1, 'b': [1, 2, 3, 4], 7: 'an integer'}"
      ]
     },
     "execution_count": 6,
     "metadata": {},
     "output_type": "execute_result"
    }
   ],
   "source": [
    "d1\n"
   ]
  },
  {
   "cell_type": "markdown",
   "id": "08adf730",
   "metadata": {},
   "source": [
    "Accessing\n"
   ]
  },
  {
   "cell_type": "code",
   "execution_count": 7,
   "id": "e2b0d1e9",
   "metadata": {},
   "outputs": [
    {
     "data": {
      "text/plain": [
       "[1, 2, 3, 4]"
      ]
     },
     "execution_count": 7,
     "metadata": {},
     "output_type": "execute_result"
    }
   ],
   "source": [
    "d1['b']"
   ]
  },
  {
   "cell_type": "markdown",
   "id": "5d775382",
   "metadata": {},
   "source": [
    "checking whether dictionary contains key"
   ]
  },
  {
   "cell_type": "code",
   "execution_count": 9,
   "id": "74e732c7",
   "metadata": {},
   "outputs": [
    {
     "data": {
      "text/plain": [
       "True"
      ]
     },
     "execution_count": 9,
     "metadata": {},
     "output_type": "execute_result"
    }
   ],
   "source": [
    "'b' in d1\n"
   ]
  },
  {
   "cell_type": "code",
   "execution_count": 10,
   "id": "fdda4f36",
   "metadata": {},
   "outputs": [],
   "source": [
    "d1[5]='some value '"
   ]
  },
  {
   "cell_type": "code",
   "execution_count": 11,
   "id": "ca2a1585",
   "metadata": {},
   "outputs": [
    {
     "data": {
      "text/plain": [
       "{'a': 1, 'b': [1, 2, 3, 4], 7: 'an integer', 5: 'some value '}"
      ]
     },
     "execution_count": 11,
     "metadata": {},
     "output_type": "execute_result"
    }
   ],
   "source": [
    "d1"
   ]
  },
  {
   "cell_type": "code",
   "execution_count": 12,
   "id": "62f9f83f",
   "metadata": {},
   "outputs": [],
   "source": [
    "d1['dummy']='another value'"
   ]
  },
  {
   "cell_type": "code",
   "execution_count": 13,
   "id": "812c87ce",
   "metadata": {},
   "outputs": [
    {
     "data": {
      "text/plain": [
       "{'a': 1,\n",
       " 'b': [1, 2, 3, 4],\n",
       " 7: 'an integer',\n",
       " 5: 'some value ',\n",
       " 'dummy': 'another value'}"
      ]
     },
     "execution_count": 13,
     "metadata": {},
     "output_type": "execute_result"
    }
   ],
   "source": [
    "d1"
   ]
  },
  {
   "cell_type": "markdown",
   "id": "4caf2cd1",
   "metadata": {},
   "source": [
    "Deleting values using del keyword and pop keyword"
   ]
  },
  {
   "cell_type": "code",
   "execution_count": 14,
   "id": "c08dfcea",
   "metadata": {},
   "outputs": [],
   "source": [
    "del d1[5]"
   ]
  },
  {
   "cell_type": "code",
   "execution_count": 15,
   "id": "6c236f6b",
   "metadata": {},
   "outputs": [
    {
     "data": {
      "text/plain": [
       "{'a': 1, 'b': [1, 2, 3, 4], 7: 'an integer', 'dummy': 'another value'}"
      ]
     },
     "execution_count": 15,
     "metadata": {},
     "output_type": "execute_result"
    }
   ],
   "source": [
    "d1"
   ]
  },
  {
   "cell_type": "code",
   "execution_count": 16,
   "id": "1bda3fe1",
   "metadata": {},
   "outputs": [
    {
     "data": {
      "text/plain": [
       "'another value'"
      ]
     },
     "execution_count": 16,
     "metadata": {},
     "output_type": "execute_result"
    }
   ],
   "source": [
    "d1.pop('dummy')"
   ]
  },
  {
   "cell_type": "code",
   "execution_count": 17,
   "id": "4776edba",
   "metadata": {},
   "outputs": [
    {
     "data": {
      "text/plain": [
       "{'a': 1, 'b': [1, 2, 3, 4], 7: 'an integer'}"
      ]
     },
     "execution_count": 17,
     "metadata": {},
     "output_type": "execute_result"
    }
   ],
   "source": [
    "d1"
   ]
  },
  {
   "cell_type": "markdown",
   "id": "401c257c",
   "metadata": {},
   "source": [
    "putting key value pairs into particular order"
   ]
  },
  {
   "cell_type": "code",
   "execution_count": 18,
   "id": "8a82bc93",
   "metadata": {},
   "outputs": [
    {
     "data": {
      "text/plain": [
       "['a', 'b', 7]"
      ]
     },
     "execution_count": 18,
     "metadata": {},
     "output_type": "execute_result"
    }
   ],
   "source": [
    "list(d1.keys())\n"
   ]
  },
  {
   "cell_type": "code",
   "execution_count": 19,
   "id": "4e7bf184",
   "metadata": {},
   "outputs": [
    {
     "data": {
      "text/plain": [
       "[1, [1, 2, 3, 4], 'an integer']"
      ]
     },
     "execution_count": 19,
     "metadata": {},
     "output_type": "execute_result"
    }
   ],
   "source": [
    "list(d1.values())"
   ]
  },
  {
   "cell_type": "markdown",
   "id": "041ba120",
   "metadata": {},
   "source": [
    "Merging two dictionaries using update "
   ]
  },
  {
   "cell_type": "code",
   "execution_count": 21,
   "id": "daec71bc",
   "metadata": {},
   "outputs": [],
   "source": [
    "\n",
    "d1.update({'b': 'foo','c' : 12})"
   ]
  },
  {
   "cell_type": "code",
   "execution_count": 22,
   "id": "924658fd",
   "metadata": {},
   "outputs": [
    {
     "data": {
      "text/plain": [
       "{'a': 1, 'b': 'foo', 7: 'an integer', 'c': 12}"
      ]
     },
     "execution_count": 22,
     "metadata": {},
     "output_type": "execute_result"
    }
   ],
   "source": [
    "d1"
   ]
  },
  {
   "cell_type": "markdown",
   "id": "bbe27bdd",
   "metadata": {},
   "source": [
    "Creating dictionary from sequence "
   ]
  },
  {
   "cell_type": "markdown",
   "id": "966aa4a6",
   "metadata": {},
   "source": [
    "From list of tuples"
   ]
  },
  {
   "cell_type": "code",
   "execution_count": 23,
   "id": "cb841d9c",
   "metadata": {},
   "outputs": [
    {
     "name": "stdout",
     "output_type": "stream",
     "text": [
      "{'a': 1, 'b': 2, 'c': 3}\n"
     ]
    }
   ],
   "source": [
    "pairs = [(\"a\", 1), (\"b\", 2), (\"c\", 3)]\n",
    "my_dict = dict(pairs)\n",
    "print(my_dict)  \n"
   ]
  },
  {
   "cell_type": "markdown",
   "id": "86b5ca0d",
   "metadata": {},
   "source": [
    "From list of lists"
   ]
  },
  {
   "cell_type": "code",
   "execution_count": 24,
   "id": "858c31f7",
   "metadata": {},
   "outputs": [
    {
     "name": "stdout",
     "output_type": "stream",
     "text": [
      "{'x': 10, 'y': 20}\n"
     ]
    }
   ],
   "source": [
    "pairs = [[\"x\", 10], [\"y\", 20]]\n",
    "my_dict = dict(pairs)\n",
    "print(my_dict)  \n"
   ]
  },
  {
   "cell_type": "code",
   "execution_count": null,
   "id": "bd5c089a",
   "metadata": {},
   "outputs": [],
   "source": [
    "if 'x' in my_dict:\n",
    "    value "
   ]
  },
  {
   "cell_type": "markdown",
   "id": "b991d9ec",
   "metadata": {},
   "source": [
    "using .get method o check if key exist in dictionary"
   ]
  },
  {
   "cell_type": "code",
   "execution_count": 25,
   "id": "dcc70cb2",
   "metadata": {},
   "outputs": [
    {
     "name": "stdout",
     "output_type": "stream",
     "text": [
      "100\n"
     ]
    }
   ],
   "source": [
    "some_dict = {\"a\": 1, \"b\": 2}\n",
    "value = some_dict.get(\"c\", 100)  \n",
    "print(value)  \n"
   ]
  },
  {
   "cell_type": "code",
   "execution_count": 26,
   "id": "43173c15",
   "metadata": {},
   "outputs": [
    {
     "name": "stdout",
     "output_type": "stream",
     "text": [
      "100\n"
     ]
    }
   ],
   "source": [
    "if \"c\" in some_dict:\n",
    "    value = some_dict[\"c\"]\n",
    "else:\n",
    "    value = 100\n",
    "print(value)  \n"
   ]
  },
  {
   "cell_type": "code",
   "execution_count": null,
   "id": "89fde0d2",
   "metadata": {},
   "outputs": [],
   "source": []
  }
 ],
 "metadata": {
  "kernelspec": {
   "display_name": "abdullah",
   "language": "python",
   "name": "python3"
  },
  "language_info": {
   "codemirror_mode": {
    "name": "ipython",
    "version": 3
   },
   "file_extension": ".py",
   "mimetype": "text/x-python",
   "name": "python",
   "nbconvert_exporter": "python",
   "pygments_lexer": "ipython3",
   "version": "3.13.2"
  }
 },
 "nbformat": 4,
 "nbformat_minor": 5
}
