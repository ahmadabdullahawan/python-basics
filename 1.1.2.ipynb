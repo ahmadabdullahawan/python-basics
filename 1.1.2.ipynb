{
 "cells": [
  {
   "cell_type": "markdown",
   "id": "dfe02d69",
   "metadata": {},
   "source": [
    "variable and value assigning to variables \n",
    "variables can store some data "
   ]
  },
  {
   "cell_type": "code",
   "execution_count": 1,
   "id": "d759df9f",
   "metadata": {},
   "outputs": [
    {
     "name": "stdout",
     "output_type": "stream",
     "text": [
      "name: abdullah\n",
      "age: 22\n",
      "is_student: True\n"
     ]
    }
   ],
   "source": [
    "name=\"abdullah\"\n",
    "age=22\n",
    "is_student=True\n",
    "print(\"name:\",name)\n",
    "print(\"age:\",age)\n",
    "print(\"is_student:\",is_student)"
   ]
  },
  {
   "cell_type": "markdown",
   "id": "3e1490bf",
   "metadata": {},
   "source": [
    "NAMING CONVENTION\n",
    "VARIABLE NAME SHOULD BE DESCRIPTIVE \n",
    "SHOULD START WITH LETTER OR U9NDERSCORE\n",
    "CAN CONTAIN NUMBER UNDERSCRES AND LETTERS\n",
    "VARIABLE NAMES ARE CASE SENSITIVE"
   ]
  },
  {
   "cell_type": "code",
   "execution_count": 2,
   "id": "47f8a6d7",
   "metadata": {},
   "outputs": [],
   "source": [
    "first_name=\"abdullah\"\n",
    "last_name=\"ahmad\""
   ]
  },
  {
   "cell_type": "markdown",
   "id": "8e00a23c",
   "metadata": {},
   "source": [
    "variable types\n",
    "python is dynamically typed this means the type of variable is determined at run time"
   ]
  },
  {
   "cell_type": "code",
   "execution_count": 3,
   "id": "5d84caa6",
   "metadata": {},
   "outputs": [],
   "source": [
    "name='abdullah' #str\n",
    "age=21 #int\n",
    "weight=70.5 #float\n",
    "is_student=True #boolean"
   ]
  },
  {
   "cell_type": "markdown",
   "id": "366ca9f1",
   "metadata": {},
   "source": [
    "type checking and conversion"
   ]
  },
  {
   "cell_type": "code",
   "execution_count": 5,
   "id": "95b2a99d",
   "metadata": {},
   "outputs": [
    {
     "data": {
      "text/plain": [
       "float"
      ]
     },
     "execution_count": 5,
     "metadata": {},
     "output_type": "execute_result"
    }
   ],
   "source": [
    "type(weight)"
   ]
  },
  {
   "cell_type": "code",
   "execution_count": 6,
   "id": "cd3567e4",
   "metadata": {},
   "outputs": [
    {
     "name": "stdout",
     "output_type": "stream",
     "text": [
      "<class 'int'>\n",
      "<class 'str'>\n",
      "21\n"
     ]
    }
   ],
   "source": [
    "#type conversion\n",
    "age=21\n",
    "print(type(age))\n",
    "#coversion\n",
    "age=str(age)\n",
    "print(type(age))\n",
    "print(age)"
   ]
  },
  {
   "cell_type": "markdown",
   "id": "1abc60b7",
   "metadata": {},
   "source": [
    "dynamic typing \n",
    "python allow the type of a variable to change when program executes"
   ]
  },
  {
   "cell_type": "code",
   "execution_count": 7,
   "id": "83dd1f7f",
   "metadata": {},
   "outputs": [
    {
     "name": "stdout",
     "output_type": "stream",
     "text": [
      "<class 'int'>\n",
      "<class 'str'>\n"
     ]
    }
   ],
   "source": [
    "var=22\n",
    "print(type(var))\n",
    "var=\"abdullah\"\n",
    "print(type(var))"
   ]
  },
  {
   "cell_type": "markdown",
   "id": "a6b08d26",
   "metadata": {},
   "source": [
    "inputs"
   ]
  },
  {
   "cell_type": "code",
   "execution_count": 8,
   "id": "cc365014",
   "metadata": {},
   "outputs": [
    {
     "name": "stdout",
     "output_type": "stream",
     "text": [
      "23\n"
     ]
    }
   ],
   "source": [
    "height=input(\"what is your height\")\n",
    "print(height)"
   ]
  }
 ],
 "metadata": {
  "kernelspec": {
   "display_name": "abdullah",
   "language": "python",
   "name": "python3"
  },
  "language_info": {
   "codemirror_mode": {
    "name": "ipython",
    "version": 3
   },
   "file_extension": ".py",
   "mimetype": "text/x-python",
   "name": "python",
   "nbconvert_exporter": "python",
   "pygments_lexer": "ipython3",
   "version": "3.13.2"
  }
 },
 "nbformat": 4,
 "nbformat_minor": 5
}
