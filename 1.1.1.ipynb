{
 "cells": [
  {
   "cell_type": "markdown",
   "id": "6cf9fcb5",
   "metadata": {},
   "source": [
    "single and multi line commments "
   ]
  },
  {
   "cell_type": "code",
   "execution_count": null,
   "id": "48ac6031",
   "metadata": {},
   "outputs": [],
   "source": [
    "## this is a single line comment\n",
    "'''\n",
    "this is a multi line comment\n",
    "comments will be ignored by language compiler\n",
    "\n",
    "'''"
   ]
  },
  {
   "cell_type": "markdown",
   "id": "e218235b",
   "metadata": {},
   "source": [
    "PYTHON IS A CASE SENSITIVE LANGUAGE "
   ]
  },
  {
   "cell_type": "code",
   "execution_count": 1,
   "id": "a5434be7",
   "metadata": {},
   "outputs": [
    {
     "name": "stdout",
     "output_type": "stream",
     "text": [
      "Abdullah\n",
      "ahmad\n"
     ]
    }
   ],
   "source": [
    "name=\"Abdullah\"\n",
    "Name=\"ahmad\"\n",
    "print(name)\n",
    "print(Name)"
   ]
  },
  {
   "cell_type": "markdown",
   "id": "f8e6090a",
   "metadata": {},
   "source": [
    "Identation is very important in python "
   ]
  },
  {
   "cell_type": "code",
   "execution_count": 2,
   "id": "1e822814",
   "metadata": {},
   "outputs": [
    {
     "name": "stdout",
     "output_type": "stream",
     "text": [
      "100\n",
      "100\n"
     ]
    }
   ],
   "source": [
    "marks=100\n",
    "if marks>=100:\n",
    "    print(marks)\n",
    "\n",
    "print(marks)"
   ]
  },
  {
   "cell_type": "markdown",
   "id": "07961e9a",
   "metadata": {},
   "source": [
    "line continuation use backslash\\"
   ]
  },
  {
   "cell_type": "code",
   "execution_count": 3,
   "id": "34cefb5d",
   "metadata": {},
   "outputs": [
    {
     "name": "stdout",
     "output_type": "stream",
     "text": [
      "hi my name is abdullah ahmad i am working in aritifical intellignce and data science\n"
     ]
    }
   ],
   "source": [
    "name=\"hi my name is abdullah ahmad \"\\\n",
    "    \"i am working in aritifical intellignce and data science\"\n",
    "print(name)"
   ]
  },
  {
   "cell_type": "markdown",
   "id": "716fc1ce",
   "metadata": {},
   "source": [
    "multiple line statements"
   ]
  },
  {
   "cell_type": "code",
   "execution_count": 5,
   "id": "1a01ccda",
   "metadata": {},
   "outputs": [
    {
     "name": "stdout",
     "output_type": "stream",
     "text": [
      "110\n"
     ]
    }
   ],
   "source": [
    "x=10;y=100;z=x+y;print(z)"
   ]
  },
  {
   "cell_type": "markdown",
   "id": "caf625c7",
   "metadata": {},
   "source": [
    "another example of identation"
   ]
  },
  {
   "cell_type": "code",
   "execution_count": 6,
   "id": "76d98700",
   "metadata": {},
   "outputs": [
    {
     "name": "stdout",
     "output_type": "stream",
     "text": [
      "correct identation\n",
      "this will print\n",
      "this will also print\n"
     ]
    }
   ],
   "source": [
    "if True:\n",
    "    print(\"correct identation\")\n",
    "    if False:\n",
    "        print(\"this ont print\")\n",
    "    print(\"this will print\")\n",
    "print(\"this will also print\")"
   ]
  },
  {
   "cell_type": "markdown",
   "id": "e4737a36",
   "metadata": {},
   "source": [
    "python decides variable type i.e data type on run time"
   ]
  },
  {
   "cell_type": "code",
   "execution_count": 7,
   "id": "ff0606d8",
   "metadata": {},
   "outputs": [
    {
     "name": "stdout",
     "output_type": "stream",
     "text": [
      "<class 'str'>\n",
      "<class 'int'>\n"
     ]
    }
   ],
   "source": [
    "variable=\"Abdullah\"\n",
    "print(type(variable))\n",
    "variable=10\n",
    "print(type(variable))"
   ]
  }
 ],
 "metadata": {
  "kernelspec": {
   "display_name": "abdullah",
   "language": "python",
   "name": "python3"
  },
  "language_info": {
   "codemirror_mode": {
    "name": "ipython",
    "version": 3
   },
   "file_extension": ".py",
   "mimetype": "text/x-python",
   "name": "python",
   "nbconvert_exporter": "python",
   "pygments_lexer": "ipython3",
   "version": "3.13.2"
  }
 },
 "nbformat": 4,
 "nbformat_minor": 5
}
