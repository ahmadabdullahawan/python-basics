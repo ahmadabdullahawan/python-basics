{
 "cells": [
  {
   "cell_type": "markdown",
   "id": "4d1bb0b4",
   "metadata": {},
   "source": [
    "introduction to data structures in python\n"
   ]
  },
  {
   "cell_type": "code",
   "execution_count": 1,
   "id": "ee2d58e4",
   "metadata": {},
   "outputs": [
    {
     "name": "stdout",
     "output_type": "stream",
     "text": [
      "<class 'list'>\n"
     ]
    }
   ],
   "source": [
    "#creating a list\n",
    "list=[]\n",
    "print(type(list))"
   ]
  },
  {
   "cell_type": "code",
   "execution_count": 3,
   "id": "5b538bac",
   "metadata": {},
   "outputs": [
    {
     "name": "stdout",
     "output_type": "stream",
     "text": [
      "['abdullah', 10.0, 1, True]\n"
     ]
    }
   ],
   "source": [
    "list=[\"abdullah\",10.0,1,True]\n",
    "print(list)"
   ]
  },
  {
   "cell_type": "code",
   "execution_count": 4,
   "id": "a5cba675",
   "metadata": {},
   "outputs": [
    {
     "name": "stdout",
     "output_type": "stream",
     "text": [
      "apple\n",
      "cherry\n"
     ]
    }
   ],
   "source": [
    "#accessing elements in a list\n",
    "list_of_fruits=[\"apple\",\"banana\",\"cherry\",\"guvava\"]\n",
    "print(list_of_fruits[0])\n",
    "print(list_of_fruits[2])"
   ]
  },
  {
   "cell_type": "code",
   "execution_count": 5,
   "id": "ea4972a8",
   "metadata": {},
   "outputs": [
    {
     "name": "stdout",
     "output_type": "stream",
     "text": [
      "guvava\n"
     ]
    }
   ],
   "source": [
    "print(list_of_fruits[-1])"
   ]
  },
  {
   "cell_type": "code",
   "execution_count": 6,
   "id": "fd6f1048",
   "metadata": {},
   "outputs": [
    {
     "name": "stdout",
     "output_type": "stream",
     "text": [
      "['apple', 'banana', 'cherry', 'guvava']\n"
     ]
    }
   ],
   "source": [
    "print(list_of_fruits[0:])"
   ]
  },
  {
   "cell_type": "code",
   "execution_count": 7,
   "id": "76faaf57",
   "metadata": {},
   "outputs": [
    {
     "name": "stdout",
     "output_type": "stream",
     "text": [
      "['banana', 'cherry']\n"
     ]
    }
   ],
   "source": [
    "print(list_of_fruits[1:3])"
   ]
  },
  {
   "cell_type": "code",
   "execution_count": 8,
   "id": "a2243256",
   "metadata": {},
   "outputs": [
    {
     "name": "stdout",
     "output_type": "stream",
     "text": [
      "['grapes', 'banana', 'cherry', 'guvava']\n"
     ]
    }
   ],
   "source": [
    "#modifying elemenents\n",
    "list_of_fruits[0]=\"grapes\"\n",
    "print(list_of_fruits)"
   ]
  },
  {
   "cell_type": "code",
   "execution_count": 9,
   "id": "c2399f2e",
   "metadata": {},
   "outputs": [],
   "source": [
    "list_of_fruits=[\"apple\",\"banana\",\"cherry\",\"guvava\"]"
   ]
  },
  {
   "cell_type": "code",
   "execution_count": 10,
   "id": "1b5a4478",
   "metadata": {},
   "outputs": [],
   "source": [
    "#methods in list\n",
    "list_of_fruits.append(\"grapes\")"
   ]
  },
  {
   "cell_type": "code",
   "execution_count": 11,
   "id": "a47b4891",
   "metadata": {},
   "outputs": [
    {
     "name": "stdout",
     "output_type": "stream",
     "text": [
      "['apple', 'banana', 'cherry', 'guvava', 'grapes']\n"
     ]
    }
   ],
   "source": [
    "print(list_of_fruits)"
   ]
  },
  {
   "cell_type": "code",
   "execution_count": 15,
   "id": "65e81ef2",
   "metadata": {},
   "outputs": [
    {
     "name": "stdout",
     "output_type": "stream",
     "text": [
      "['apple', 'watermelon', 'banana', 'cherry', 'guvava', 'grapes']\n"
     ]
    }
   ],
   "source": [
    "list_of_fruits.insert(1,\"watermelon\")\n",
    "print(list_of_fruits)"
   ]
  },
  {
   "cell_type": "code",
   "execution_count": 16,
   "id": "27775b54",
   "metadata": {},
   "outputs": [
    {
     "name": "stdout",
     "output_type": "stream",
     "text": [
      "['apple', 'banana', 'cherry', 'guvava', 'grapes']\n"
     ]
    }
   ],
   "source": [
    "list_of_fruits.remove(\"watermelon\")\n",
    "print(list_of_fruits)"
   ]
  },
  {
   "cell_type": "code",
   "execution_count": 17,
   "id": "50149135",
   "metadata": {},
   "outputs": [
    {
     "name": "stdout",
     "output_type": "stream",
     "text": [
      "grapes\n",
      "['apple', 'banana', 'cherry', 'guvava']\n"
     ]
    }
   ],
   "source": [
    "#pop function in list\n",
    "a=list_of_fruits.pop()\n",
    "print(a)\n",
    "print(list_of_fruits)"
   ]
  },
  {
   "cell_type": "code",
   "execution_count": 18,
   "id": "3749856c",
   "metadata": {},
   "outputs": [
    {
     "name": "stdout",
     "output_type": "stream",
     "text": [
      "['apple', 'banana', 'banana', 'cherry', 'guvava']\n"
     ]
    }
   ],
   "source": [
    "list_of_fruits.insert(2,\"banana\")\n",
    "print(list_of_fruits)"
   ]
  },
  {
   "cell_type": "code",
   "execution_count": 20,
   "id": "309942cb",
   "metadata": {},
   "outputs": [
    {
     "name": "stdout",
     "output_type": "stream",
     "text": [
      "1\n"
     ]
    }
   ],
   "source": [
    "index=list_of_fruits.index(\"banana\")\n",
    "print(index)"
   ]
  },
  {
   "cell_type": "code",
   "execution_count": 21,
   "id": "0f7cad36",
   "metadata": {},
   "outputs": [
    {
     "name": "stdout",
     "output_type": "stream",
     "text": [
      "2\n"
     ]
    }
   ],
   "source": [
    "c=list_of_fruits.count(\"banana\")\n",
    "print(c)"
   ]
  },
  {
   "cell_type": "code",
   "execution_count": 22,
   "id": "6387a0a7",
   "metadata": {},
   "outputs": [
    {
     "name": "stdout",
     "output_type": "stream",
     "text": [
      "['guvava', 'cherry', 'banana', 'banana', 'apple']\n"
     ]
    }
   ],
   "source": [
    "list_of_fruits.reverse()\n",
    "print(list_of_fruits)"
   ]
  },
  {
   "cell_type": "code",
   "execution_count": 23,
   "id": "caf680ed",
   "metadata": {},
   "outputs": [],
   "source": [
    "list_of_fruits.clear()"
   ]
  },
  {
   "cell_type": "code",
   "execution_count": 24,
   "id": "8d1efc9d",
   "metadata": {},
   "outputs": [
    {
     "name": "stdout",
     "output_type": "stream",
     "text": [
      "[]\n"
     ]
    }
   ],
   "source": [
    "print(list_of_fruits)"
   ]
  },
  {
   "cell_type": "code",
   "execution_count": 25,
   "id": "e5d436d6",
   "metadata": {},
   "outputs": [
    {
     "name": "stdout",
     "output_type": "stream",
     "text": [
      "[2, 3, 4, 5]\n",
      "[3, 4, 5, 6, 7, 8, 9, 10]\n",
      "[1, 2, 3, 4, 5]\n",
      "[1, 2, 3, 4, 5, 6, 7, 8, 9, 10]\n",
      "[1, 2, 3, 4, 5, 6, 7, 8, 9, 10]\n",
      "[1, 3, 5, 7, 9]\n",
      "[10, 9, 8, 7, 6, 5, 4, 3, 2, 1]\n",
      "[10, 8, 6, 4, 2]\n",
      "[10, 7, 4, 1]\n"
     ]
    }
   ],
   "source": [
    "#slicing in list\n",
    "number=[1,2,3,4,5,6,7,8,9,10]\n",
    "print(number[1:5])\n",
    "print(number[2:])\n",
    "print(number[:5])\n",
    "print(number[::])\n",
    "print(number[::1])\n",
    "print(number[::2])\n",
    "print(number[::-1])\n",
    "print(number[::-2])\n",
    "print(number[::-3])"
   ]
  },
  {
   "cell_type": "code",
   "execution_count": 26,
   "id": "57890a18",
   "metadata": {},
   "outputs": [
    {
     "name": "stdout",
     "output_type": "stream",
     "text": [
      "1\n",
      "2\n",
      "3\n",
      "4\n",
      "5\n",
      "6\n",
      "7\n",
      "8\n",
      "9\n",
      "10\n"
     ]
    }
   ],
   "source": [
    "#ilterating over lists\n",
    "for i in number:\n",
    "    print(i)"
   ]
  },
  {
   "cell_type": "code",
   "execution_count": 27,
   "id": "ce10c72c",
   "metadata": {},
   "outputs": [
    {
     "name": "stdout",
     "output_type": "stream",
     "text": [
      "0 1\n",
      "1 2\n",
      "2 3\n",
      "3 4\n",
      "4 5\n",
      "5 6\n",
      "6 7\n",
      "7 8\n",
      "8 9\n",
      "9 10\n"
     ]
    }
   ],
   "source": [
    "for index,i in enumerate(number):\n",
    "    print(index,i)"
   ]
  },
  {
   "cell_type": "code",
   "execution_count": 28,
   "id": "05f16a7d",
   "metadata": {},
   "outputs": [
    {
     "data": {
      "text/plain": [
       "[0, 1, 8, 27, 64, 125, 216, 343, 512, 729]"
      ]
     },
     "execution_count": 28,
     "metadata": {},
     "output_type": "execute_result"
    }
   ],
   "source": [
    "#list comprehension\n",
    "[x**3 for x in range(10)]"
   ]
  },
  {
   "cell_type": "markdown",
   "id": "ce47dfeb",
   "metadata": {},
   "source": [
    "LIST COMPREHENSION\n",
    "SYNTAX\n",
    "[expression for item in iterable]\n",
    "[expression for item in iterale if condition]"
   ]
  },
  {
   "cell_type": "code",
   "execution_count": 29,
   "id": "7e06255d",
   "metadata": {},
   "outputs": [
    {
     "name": "stdout",
     "output_type": "stream",
     "text": [
      "[0, 1, 4, 9, 16, 25, 36, 49, 64, 81]\n"
     ]
    }
   ],
   "source": [
    "square=[i**2 for i in range(10)]\n",
    "print(square)"
   ]
  },
  {
   "cell_type": "code",
   "execution_count": 30,
   "id": "3e13b51d",
   "metadata": {},
   "outputs": [
    {
     "name": "stdout",
     "output_type": "stream",
     "text": [
      "[0, 2, 4, 6, 8]\n"
     ]
    }
   ],
   "source": [
    "even=[i for i in range(10) if i%2==0]\n",
    "print(even)"
   ]
  },
  {
   "cell_type": "code",
   "execution_count": 31,
   "id": "c1032f9d",
   "metadata": {},
   "outputs": [
    {
     "name": "stdout",
     "output_type": "stream",
     "text": [
      "[[1, 'a'], [1, 'b'], [1, 'c'], [1, 'd'], [2, 'a'], [2, 'b'], [2, 'c'], [2, 'd'], [3, 'a'], [3, 'b'], [3, 'c'], [3, 'd'], [4, 'a'], [4, 'b'], [4, 'c'], [4, 'd']]\n"
     ]
    }
   ],
   "source": [
    "list1=[1,2,3,4]\n",
    "list2=['a','b','c','d']\n",
    "a=[[i,j]for i in list1 for j in list2]\n",
    "print(a)"
   ]
  },
  {
   "cell_type": "code",
   "execution_count": 34,
   "id": "8331470b",
   "metadata": {},
   "outputs": [
    {
     "name": "stdout",
     "output_type": "stream",
     "text": [
      "[8, 3, 4]\n"
     ]
    }
   ],
   "source": [
    "list0=['abdullah','ali','asad']\n",
    "n=[len(i) for i in list0]\n",
    "\n",
    "print(n)"
   ]
  },
  {
   "cell_type": "code",
   "execution_count": null,
   "id": "79cb2884",
   "metadata": {},
   "outputs": [],
   "source": []
  }
 ],
 "metadata": {
  "kernelspec": {
   "display_name": "abdullah",
   "language": "python",
   "name": "python3"
  },
  "language_info": {
   "codemirror_mode": {
    "name": "ipython",
    "version": 3
   },
   "file_extension": ".py",
   "mimetype": "text/x-python",
   "name": "python",
   "nbconvert_exporter": "python",
   "pygments_lexer": "ipython3",
   "version": "3.13.2"
  }
 },
 "nbformat": 4,
 "nbformat_minor": 5
}
