{
 "cells": [
  {
   "cell_type": "markdown",
   "id": "62f2e573",
   "metadata": {},
   "source": [
    "lets make a simple calculator"
   ]
  },
  {
   "cell_type": "code",
   "execution_count": 4,
   "id": "728acdaf",
   "metadata": {},
   "outputs": [
    {
     "name": "stdout",
     "output_type": "stream",
     "text": [
      "30.0\n",
      "-10.0\n",
      "200.0\n",
      "0.5\n"
     ]
    }
   ],
   "source": [
    "float1=float(input(\"eneter an integer\"))\n",
    "float2=float(input(\"eneter an integer\"))\n",
    "sum=float1+float2\n",
    "difference=float1 - float2\n",
    "multiplication=float1*float2\n",
    "division=float1/float2\n",
    "print(sum)\n",
    "print(difference)\n",
    "print(multiplication)\n",
    "print(division)"
   ]
  },
  {
   "cell_type": "markdown",
   "id": "709b805a",
   "metadata": {},
   "source": [
    "data types discussion"
   ]
  },
  {
   "cell_type": "code",
   "execution_count": 1,
   "id": "10fb89b5",
   "metadata": {},
   "outputs": [
    {
     "name": "stdout",
     "output_type": "stream",
     "text": [
      "<class 'str'>\n"
     ]
    }
   ],
   "source": [
    "name=\"abdullah\"\n",
    "print(type(name))\n"
   ]
  },
  {
   "cell_type": "code",
   "execution_count": 2,
   "id": "a1c3ba0b",
   "metadata": {},
   "outputs": [
    {
     "name": "stdout",
     "output_type": "stream",
     "text": [
      "<class 'int'>\n"
     ]
    }
   ],
   "source": [
    "age=21\n",
    "print(type(age))"
   ]
  },
  {
   "cell_type": "code",
   "execution_count": 3,
   "id": "826cf24a",
   "metadata": {},
   "outputs": [
    {
     "name": "stdout",
     "output_type": "stream",
     "text": [
      "<class 'float'>\n"
     ]
    }
   ],
   "source": [
    "height=10.1\n",
    "print(type(height))"
   ]
  },
  {
   "cell_type": "code",
   "execution_count": 4,
   "id": "b6b17334",
   "metadata": {},
   "outputs": [
    {
     "data": {
      "text/plain": [
       "False"
      ]
     },
     "execution_count": 4,
     "metadata": {},
     "output_type": "execute_result"
    }
   ],
   "source": [
    "bool()"
   ]
  },
  {
   "cell_type": "code",
   "execution_count": 5,
   "id": "15ef5025",
   "metadata": {},
   "outputs": [
    {
     "name": "stdout",
     "output_type": "stream",
     "text": [
      "<class 'bool'>\n"
     ]
    }
   ],
   "source": [
    "is_student=True\n",
    "print(type(is_student))"
   ]
  },
  {
   "cell_type": "markdown",
   "id": "96912658",
   "metadata": {},
   "source": [
    "common errors that can be excluded with type casting"
   ]
  },
  {
   "cell_type": "code",
   "execution_count": 6,
   "id": "a17abd9d",
   "metadata": {},
   "outputs": [
    {
     "ename": "TypeError",
     "evalue": "can only concatenate str (not \"int\") to str",
     "output_type": "error",
     "traceback": [
      "\u001b[31m---------------------------------------------------------------------------\u001b[39m",
      "\u001b[31mTypeError\u001b[39m                                 Traceback (most recent call last)",
      "\u001b[36mCell\u001b[39m\u001b[36m \u001b[39m\u001b[32mIn[6]\u001b[39m\u001b[32m, line 1\u001b[39m\n\u001b[32m----> \u001b[39m\u001b[32m1\u001b[39m name=\u001b[33m\"\u001b[39m\u001b[33mAbdullah\u001b[39m\u001b[33m\"\u001b[39m + \u001b[32m5\u001b[39m\n\u001b[32m      2\u001b[39m \u001b[38;5;28mprint\u001b[39m(name)\n",
      "\u001b[31mTypeError\u001b[39m: can only concatenate str (not \"int\") to str"
     ]
    }
   ],
   "source": [
    "name=\"Abdullah\" + 5\n",
    "print(name)"
   ]
  },
  {
   "cell_type": "code",
   "execution_count": 7,
   "id": "b84c502f",
   "metadata": {},
   "outputs": [
    {
     "name": "stdout",
     "output_type": "stream",
     "text": [
      "Abdullah5\n"
     ]
    }
   ],
   "source": [
    "name='Abdullah' + str(5)\n",
    "print(name)"
   ]
  }
 ],
 "metadata": {
  "kernelspec": {
   "display_name": "abdullah",
   "language": "python",
   "name": "python3"
  },
  "language_info": {
   "codemirror_mode": {
    "name": "ipython",
    "version": 3
   },
   "file_extension": ".py",
   "mimetype": "text/x-python",
   "name": "python",
   "nbconvert_exporter": "python",
   "pygments_lexer": "ipython3",
   "version": "3.13.2"
  }
 },
 "nbformat": 4,
 "nbformat_minor": 5
}
