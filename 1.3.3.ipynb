{
 "cells": [
  {
   "cell_type": "markdown",
   "id": "cccf5ac8",
   "metadata": {},
   "source": [
    "Introduction to tuples"
   ]
  },
  {
   "cell_type": "code",
   "execution_count": 1,
   "id": "60058749",
   "metadata": {},
   "outputs": [
    {
     "name": "stdout",
     "output_type": "stream",
     "text": [
      "<class 'tuple'>\n"
     ]
    }
   ],
   "source": [
    "#creating a tuple\n",
    "tuple=tuple()\n",
    "print(type(tuple))"
   ]
  },
  {
   "cell_type": "code",
   "execution_count": 1,
   "id": "ab1def54",
   "metadata": {},
   "outputs": [
    {
     "name": "stdout",
     "output_type": "stream",
     "text": [
      "Original List: [1, 2, 3, 4, 5]\n",
      "Converted Tuple: (1, 2, 3, 4, 5)\n"
     ]
    }
   ],
   "source": [
    "#list can be converted into tuple\n",
    "# Define a list\n",
    "my_list = [1, 2, 3, 4, 5]\n",
    "\n",
    "# Convert the list to a tuple\n",
    "my_tuple = tuple(my_list)\n",
    "\n",
    "# Print the original list\n",
    "print(\"Original List:\", my_list)\n",
    "\n",
    "# Print the converted tuple\n",
    "print(\"Converted Tuple:\", my_tuple)\n"
   ]
  },
  {
   "cell_type": "code",
   "execution_count": 2,
   "id": "5db36e21",
   "metadata": {},
   "outputs": [
    {
     "data": {
      "text/plain": [
       "(1, 2, 'asad', True)"
      ]
     },
     "execution_count": 2,
     "metadata": {},
     "output_type": "execute_result"
    }
   ],
   "source": [
    "mixed_tuple=(1,2,\"asad\",True)\n",
    "mixed_tuple"
   ]
  },
  {
   "cell_type": "code",
   "execution_count": 3,
   "id": "435cdd84",
   "metadata": {},
   "outputs": [
    {
     "name": "stdout",
     "output_type": "stream",
     "text": [
      "1\n",
      "True\n"
     ]
    }
   ],
   "source": [
    "#accesing tuple elements \n",
    "print(mixed_tuple[0])\n",
    "print(mixed_tuple[-1])"
   ]
  },
  {
   "cell_type": "code",
   "execution_count": 4,
   "id": "68bf7ba4",
   "metadata": {},
   "outputs": [
    {
     "name": "stdout",
     "output_type": "stream",
     "text": [
      "(1, 2, 'asad')\n"
     ]
    }
   ],
   "source": [
    "#slicing is same as in lists\n",
    "print(mixed_tuple[0:3])"
   ]
  },
  {
   "cell_type": "code",
   "execution_count": 5,
   "id": "b4447696",
   "metadata": {},
   "outputs": [
    {
     "name": "stdout",
     "output_type": "stream",
     "text": [
      "(1, 2, 'asad', True)\n"
     ]
    }
   ],
   "source": [
    "print(mixed_tuple[::])"
   ]
  },
  {
   "cell_type": "code",
   "execution_count": 7,
   "id": "5516aa06",
   "metadata": {},
   "outputs": [
    {
     "name": "stdout",
     "output_type": "stream",
     "text": [
      "(True, 'asad', 2, 1)\n"
     ]
    }
   ],
   "source": [
    "print(mixed_tuple[::-1])"
   ]
  },
  {
   "cell_type": "code",
   "execution_count": 8,
   "id": "9f0b3c34",
   "metadata": {},
   "outputs": [
    {
     "name": "stdout",
     "output_type": "stream",
     "text": [
      "(1, 'asad')\n"
     ]
    }
   ],
   "source": [
    "print(mixed_tuple[::2])"
   ]
  },
  {
   "cell_type": "code",
   "execution_count": 10,
   "id": "746f8930",
   "metadata": {},
   "outputs": [
    {
     "name": "stdout",
     "output_type": "stream",
     "text": [
      "(1, 2, 3, 4, 5)\n"
     ]
    },
    {
     "data": {
      "text/plain": [
       "(1, 2, 'asad', True)"
      ]
     },
     "execution_count": 10,
     "metadata": {},
     "output_type": "execute_result"
    }
   ],
   "source": [
    "print(my_tuple)\n",
    "mixed_tuple"
   ]
  },
  {
   "cell_type": "code",
   "execution_count": 11,
   "id": "022dcc49",
   "metadata": {},
   "outputs": [
    {
     "name": "stdout",
     "output_type": "stream",
     "text": [
      "(1, 2, 3, 4, 5, 1, 2, 'asad', True)\n"
     ]
    }
   ],
   "source": [
    "#now applying different operations\n",
    "concetentation=my_tuple+mixed_tuple\n",
    "print(concetentation)"
   ]
  },
  {
   "cell_type": "code",
   "execution_count": 12,
   "id": "89d3eb4e",
   "metadata": {},
   "outputs": [
    {
     "data": {
      "text/plain": [
       "(1, 2, 'asad', True, 1, 2, 'asad', True, 1, 2, 'asad', True)"
      ]
     },
     "execution_count": 12,
     "metadata": {},
     "output_type": "execute_result"
    }
   ],
   "source": [
    "mixed_tuple*3"
   ]
  },
  {
   "cell_type": "code",
   "execution_count": 15,
   "id": "9545ab9c",
   "metadata": {},
   "outputs": [],
   "source": [
    "#tuples are immutable\n",
    "#unlike list were we can change elements with the help of indexing we cannot do it in tuples\n",
    "#if we wanna do it we had to convert the tuple in list and change elements and then convert it back to tuple  "
   ]
  },
  {
   "cell_type": "code",
   "execution_count": 16,
   "id": "cba754fa",
   "metadata": {},
   "outputs": [
    {
     "data": {
      "text/plain": [
       "(1, 2, 3, 4, 5)"
      ]
     },
     "execution_count": 16,
     "metadata": {},
     "output_type": "execute_result"
    }
   ],
   "source": [
    "my_tuple"
   ]
  },
  {
   "cell_type": "code",
   "execution_count": 17,
   "id": "a74aab49",
   "metadata": {},
   "outputs": [
    {
     "name": "stdout",
     "output_type": "stream",
     "text": [
      "1\n"
     ]
    }
   ],
   "source": [
    "print(my_tuple.count(1))"
   ]
  },
  {
   "cell_type": "code",
   "execution_count": 18,
   "id": "df33711e",
   "metadata": {},
   "outputs": [
    {
     "name": "stdout",
     "output_type": "stream",
     "text": [
      "2\n"
     ]
    }
   ],
   "source": [
    "print(my_tuple.index(3))"
   ]
  },
  {
   "cell_type": "code",
   "execution_count": 19,
   "id": "9972be41",
   "metadata": {},
   "outputs": [
    {
     "name": "stdout",
     "output_type": "stream",
     "text": [
      "(1, 'Hello', 1.3)\n"
     ]
    }
   ],
   "source": [
    "#packing and unpacking tuples\n",
    "packing=1,\"Hello\",1.3\n",
    "print(packing)\n",
    "\n"
   ]
  },
  {
   "cell_type": "code",
   "execution_count": 20,
   "id": "973b8022",
   "metadata": {},
   "outputs": [
    {
     "name": "stdout",
     "output_type": "stream",
     "text": [
      "1\n",
      "Hello\n",
      "1.3\n"
     ]
    }
   ],
   "source": [
    "#unpacking\n",
    "a,b,c=packing\n",
    "print(a)\n",
    "print(b)\n",
    "print(c)"
   ]
  },
  {
   "cell_type": "code",
   "execution_count": 21,
   "id": "dc6cbd96",
   "metadata": {},
   "outputs": [
    {
     "name": "stdout",
     "output_type": "stream",
     "text": [
      "1\n",
      "[2, 3, 4, 5]\n",
      "6\n"
     ]
    }
   ],
   "source": [
    "#unpacking with *\n",
    "numbers=(1,2,3,4,5,6)\n",
    "a,*b,c=numbers\n",
    "print(a)\n",
    "print(b)\n",
    "print(c)"
   ]
  },
  {
   "cell_type": "code",
   "execution_count": 22,
   "id": "e85a6915",
   "metadata": {},
   "outputs": [
    {
     "data": {
      "text/plain": [
       "[1, 2, 34, 4]"
      ]
     },
     "execution_count": 22,
     "metadata": {},
     "output_type": "execute_result"
    }
   ],
   "source": [
    "#nested lists and tuples\n",
    "lst=([1,2,34,4],[4,5,6,7,8],[1,'hello',1.1])\n",
    "lst[0][0:]"
   ]
  },
  {
   "cell_type": "code",
   "execution_count": 23,
   "id": "0452be0e",
   "metadata": {},
   "outputs": [
    {
     "data": {
      "text/plain": [
       "[4, 5, 6, 7, 8]"
      ]
     },
     "execution_count": 23,
     "metadata": {},
     "output_type": "execute_result"
    }
   ],
   "source": [
    "lst[1][::1]"
   ]
  },
  {
   "cell_type": "code",
   "execution_count": 24,
   "id": "34ed5688",
   "metadata": {},
   "outputs": [
    {
     "data": {
      "text/plain": [
       "(1, 'hello', 1.1)"
      ]
     },
     "execution_count": 24,
     "metadata": {},
     "output_type": "execute_result"
    }
   ],
   "source": [
    "#tuple inside a list\n",
    "lst=([1,2,34,4],[4,5,6,7,8],(1,'hello',1.1))\n",
    "lst[2][::]"
   ]
  },
  {
   "cell_type": "code",
   "execution_count": 25,
   "id": "1745802e",
   "metadata": {},
   "outputs": [],
   "source": [
    "#nested tuples\n",
    "tple=((1,2,3),(4,5,6),(\"hello\",\"asad\",\"ali\"))"
   ]
  },
  {
   "cell_type": "code",
   "execution_count": 26,
   "id": "daf5d52b",
   "metadata": {},
   "outputs": [
    {
     "data": {
      "text/plain": [
       "(1, 2, 3)"
      ]
     },
     "execution_count": 26,
     "metadata": {},
     "output_type": "execute_result"
    }
   ],
   "source": [
    "tple[0]"
   ]
  },
  {
   "cell_type": "code",
   "execution_count": 27,
   "id": "37d4d45b",
   "metadata": {},
   "outputs": [
    {
     "name": "stdout",
     "output_type": "stream",
     "text": [
      "1 2 3 \n",
      "4 5 6 \n",
      "hello asad ali \n"
     ]
    }
   ],
   "source": [
    "for i in tple:\n",
    "    for j in i:\n",
    "        print(j,end=\" \")\n",
    "    print()\n",
    "        "
   ]
  },
  {
   "cell_type": "code",
   "execution_count": null,
   "id": "807fcbfc",
   "metadata": {},
   "outputs": [],
   "source": []
  }
 ],
 "metadata": {
  "kernelspec": {
   "display_name": "abdullah",
   "language": "python",
   "name": "python3"
  },
  "language_info": {
   "codemirror_mode": {
    "name": "ipython",
    "version": 3
   },
   "file_extension": ".py",
   "mimetype": "text/x-python",
   "name": "python",
   "nbconvert_exporter": "python",
   "pygments_lexer": "ipython3",
   "version": "3.13.2"
  }
 },
 "nbformat": 4,
 "nbformat_minor": 5
}
