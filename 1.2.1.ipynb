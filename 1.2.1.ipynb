{
 "cells": [
  {
   "cell_type": "markdown",
   "id": "b4d9412b",
   "metadata": {},
   "source": [
    "conditional satements\n"
   ]
  },
  {
   "cell_type": "code",
   "execution_count": 1,
   "id": "80e41d1f",
   "metadata": {},
   "outputs": [
    {
     "name": "stdout",
     "output_type": "stream",
     "text": [
      "you are allowed to drive\n"
     ]
    }
   ],
   "source": [
    "#if statements\n",
    "age=20\n",
    "if age>=18:\n",
    "    print(\"you are allowed to drive\")"
   ]
  },
  {
   "cell_type": "code",
   "execution_count": 2,
   "id": "450cfbf1",
   "metadata": {},
   "outputs": [
    {
     "name": "stdout",
     "output_type": "stream",
     "text": [
      "you are teenager yet\n"
     ]
    }
   ],
   "source": [
    "#else statements\n",
    "age=20\n",
    "if age>20:\n",
    "    print(\"you are an adult\")\n",
    "else:\n",
    "    print(\"you are teenager yet\")"
   ]
  },
  {
   "cell_type": "code",
   "execution_count": 3,
   "id": "8b529803",
   "metadata": {},
   "outputs": [
    {
     "name": "stdout",
     "output_type": "stream",
     "text": [
      "You are a teenager.\n"
     ]
    }
   ],
   "source": [
    "#elif\n",
    "age=17\n",
    "if age<13:\n",
    "    print(\"You are a child.\")\n",
    "elif age < 20:\n",
    "    print(\"You are a teenager.\")\n",
    "else:\n",
    "    print(\"You are an adult.\")"
   ]
  },
  {
   "cell_type": "code",
   "execution_count": 4,
   "id": "98d866a0",
   "metadata": {},
   "outputs": [
    {
     "name": "stdout",
     "output_type": "stream",
     "text": [
      "The number is positive\n",
      "The number is even\n"
     ]
    }
   ],
   "source": [
    "#nested conditional statements\n",
    "num=int(input(\"enter a number\"))\n",
    "if num > 0:\n",
    "    print(\"The number is positive\")\n",
    "    if num%2==0:\n",
    "        print(\"The number is even\")\n",
    "    elif num%2!=0:\n",
    "        print(\"the number is odd\")\n",
    "else:\n",
    "    print(\"The number is zero or negative\")\n",
    "        "
   ]
  },
  {
   "cell_type": "code",
   "execution_count": 8,
   "id": "efb3b15a",
   "metadata": {},
   "outputs": [
    {
     "name": "stdout",
     "output_type": "stream",
     "text": [
      "pay 25 rs\n",
      "Thank you for your purchase!\n"
     ]
    }
   ],
   "source": [
    "# a practical example\n",
    "age=int(input(\"please eneter your age\"))\n",
    "is_student=str(input(\"Are you a student? [y/n]\")).lower()\n",
    "if age<=5:\n",
    "    print(\"No charges of ticket\")\n",
    "elif age<=10 and is_student==\"y\":\n",
    "    print(\"your discounted ticket price = 10 RS\")\n",
    "elif age<18 and is_student=='y':\n",
    "    print(\"your discounted ticket price = 15 RS\")\n",
    "else:\n",
    "    print(\"pay 25 rs\")\n",
    "print(\"Thank you for your purchase!\")"
   ]
  },
  {
   "cell_type": "code",
   "execution_count": null,
   "id": "c9400e45",
   "metadata": {},
   "outputs": [],
   "source": []
  }
 ],
 "metadata": {
  "kernelspec": {
   "display_name": "abdullah",
   "language": "python",
   "name": "python3"
  },
  "language_info": {
   "codemirror_mode": {
    "name": "ipython",
    "version": 3
   },
   "file_extension": ".py",
   "mimetype": "text/x-python",
   "name": "python",
   "nbconvert_exporter": "python",
   "pygments_lexer": "ipython3",
   "version": "3.13.2"
  }
 },
 "nbformat": 4,
 "nbformat_minor": 5
}
